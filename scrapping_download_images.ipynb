{
 "cells": [
  {
   "cell_type": "code",
   "execution_count": null,
   "id": "467fda2a-ad5c-4210-a5f7-fd310490e013",
   "metadata": {},
   "outputs": [],
   "source": [
    "pip install requests beautifulsoup4"
   ]
  },
  {
   "cell_type": "code",
   "execution_count": null,
   "id": "9f89f643",
   "metadata": {},
   "outputs": [],
   "source": [
    "pip install selenium webdriver-manager requests beautifulsoup4 lxml"
   ]
  },
  {
   "cell_type": "code",
   "execution_count": null,
   "id": "1ea3c3bf",
   "metadata": {},
   "outputs": [],
   "source": [
    "pip install lxml"
   ]
  },
  {
   "cell_type": "code",
   "execution_count": null,
   "id": "07550add",
   "metadata": {},
   "outputs": [],
   "source": [
    "pip install tqdm"
   ]
  },
  {
   "cell_type": "code",
   "execution_count": null,
   "id": "1981c638",
   "metadata": {},
   "outputs": [],
   "source": []
  },
  {
   "cell_type": "code",
   "execution_count": null,
   "id": "3b55b54d",
   "metadata": {},
   "outputs": [],
   "source": []
  },
  {
   "cell_type": "code",
   "execution_count": null,
   "id": "a6e2d9f0",
   "metadata": {},
   "outputs": [],
   "source": []
  },
  {
   "cell_type": "code",
   "execution_count": null,
   "id": "6b9aa6ba",
   "metadata": {},
   "outputs": [],
   "source": []
  },
  {
   "cell_type": "code",
   "execution_count": null,
   "id": "58dab197",
   "metadata": {},
   "outputs": [],
   "source": [
    "import os\n",
    "import time\n",
    "import requests\n",
    "from bs4 import BeautifulSoup\n",
    "from selenium import webdriver\n",
    "from selenium.webdriver.chrome.service import Service\n",
    "from selenium.webdriver.chrome.options import Options\n",
    "from webdriver_manager.chrome import ChromeDriverManager\n",
    "\n",
    "options = Options()\n",
    "options.headless = True  \n",
    "service = Service(ChromeDriverManager().install())\n",
    "driver = webdriver.Chrome(service=service, options=options)\n",
    "\n",
    "url = 'https://vsco.co/feed'\n",
    "driver.get(url)\n",
    "\n",
    "scroll_pause_time = 2\n",
    "last_height = driver.execute_script(\"return document.body.scrollHeight\")\n",
    "\n",
    "while True:\n",
    "    driver.execute_script(\"window.scrollTo(0, document.body.scrollHeight);\")\n",
    "    time.sleep(scroll_pause_time)\n",
    "    new_height = driver.execute_script(\"return document.body.scrollHeight\")\n",
    "    if new_height == last_height:\n",
    "        break\n",
    "    last_height = new_height\n",
    "\n",
    "soup = BeautifulSoup(driver.page_source, 'html.parser')"
   ]
  },
  {
   "cell_type": "code",
   "execution_count": null,
   "id": "0405550e-3806-45c8-9499-1ba0d816bb66",
   "metadata": {},
   "outputs": [],
   "source": [
    "soup"
   ]
  },
  {
   "cell_type": "code",
   "execution_count": null,
   "id": "b7b568e9-8cee-4f0f-9e60-3758bb8c9a0c",
   "metadata": {},
   "outputs": [],
   "source": [
    "# links = soup.find_all(\"a\", href=True)\n",
    "\n",
    "# for link in links:\n",
    "#     print(link['href'])"
   ]
  },
  {
   "cell_type": "code",
   "execution_count": null,
   "id": "6e5317d0-0293-4276-a942-a2e50e4c454e",
   "metadata": {},
   "outputs": [],
   "source": [
    "base_url = \"https://vsco.co\"\n",
    "links = soup.find_all(\"a\", href=True)\n",
    "for link in links:\n",
    "    if '/media/' in link['href']:\n",
    "        full_url = base_url +'/'+ link['href']\n",
    "        print(full_url)\n"
   ]
  },
  {
   "cell_type": "code",
   "execution_count": null,
   "id": "904ef799",
   "metadata": {
    "scrolled": true
   },
   "outputs": [],
   "source": [
    "from tqdm import tqdm\n",
    "from PIL import Image\n",
    "\n",
    "base_url = \"https://vsco.co\"\n",
    "links = soup.find_all(\"a\", href=True)\n",
    "for link in tqdm(links):\n",
    "    if '/media/' in link['href']:\n",
    "        full_url = base_url +'/'+ link['href']\n",
    "        print(full_url)\n",
    "        url = full_url\n",
    "        driver.get(url)\n",
    "\n",
    "        scroll_pause_time = 2\n",
    "        last_height = driver.execute_script(\"return document.body.scrollHeight\")\n",
    "\n",
    "        while True:\n",
    "            driver.execute_script(\"window.scrollTo(0, document.body.scrollHeight);\")\n",
    "            time.sleep(scroll_pause_time)\n",
    "            new_height = driver.execute_script(\"return document.body.scrollHeight\")\n",
    "            if new_height == last_height:\n",
    "                break\n",
    "            last_height = new_height\n",
    "\n",
    "        soup = BeautifulSoup(driver.page_source, 'html.parser')\n",
    "        linksa = soup.find_all(\"img\", src=lambda src: src and 'jpg' in src)\n",
    "        for img_tag in linksa:\n",
    "            src_url = img_tag['src']\n",
    "            src_url = \"https:\"+ src_url\n",
    "            response = requests.get(src_url)\n",
    "            if response.status_code == 200:\n",
    "                file_name = src_url.split(\"/\")[-1]\n",
    "                with open(file_name, \"wb\") as f:\n",
    "                    f.write(response.content)\n",
    "                print(\"Image downloaded successfully as:\", file_name)\n",
    "                imm = Image.open(file_name)\n",
    "                display(imm)\n",
    "            else:\n",
    "                print(\"Failed to download the image. Status code:\", response.status_code)\n",
    "\n"
   ]
  },
  {
   "cell_type": "code",
   "execution_count": null,
   "id": "cfd26094",
   "metadata": {},
   "outputs": [],
   "source": []
  },
  {
   "cell_type": "code",
   "execution_count": null,
   "id": "99f8bbaf",
   "metadata": {
    "scrolled": true
   },
   "outputs": [],
   "source": []
  },
  {
   "cell_type": "code",
   "execution_count": null,
   "id": "081bae14",
   "metadata": {},
   "outputs": [],
   "source": []
  }
 ],
 "metadata": {
  "kernelspec": {
   "display_name": "classifier",
   "language": "python",
   "name": "classifier"
  },
  "language_info": {
   "codemirror_mode": {
    "name": "ipython",
    "version": 3
   },
   "file_extension": ".py",
   "mimetype": "text/x-python",
   "name": "python",
   "nbconvert_exporter": "python",
   "pygments_lexer": "ipython3",
   "version": "3.9.18"
  }
 },
 "nbformat": 4,
 "nbformat_minor": 5
}
